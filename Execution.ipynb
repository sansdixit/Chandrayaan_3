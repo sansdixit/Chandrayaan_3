{
 "cells": [
  {
   "cell_type": "code",
   "execution_count": null,
   "id": "774abd1f",
   "metadata": {},
   "outputs": [],
   "source": [
    "from spacecraft import Spacecraft\n",
    "from movement import *\n",
    "\n",
    "def execute_commands(spacecraft, commands):\n",
    "    for command in commands:\n",
    "        try:\n",
    "            if command == \"f\":\n",
    "                spacecraft.position = move_forward(spacecraft.position, spacecraft.direction)\n",
    "            elif command == \"b\":\n",
    "                spacecraft.position = move_backward(spacecraft.position, spacecraft.direction)\n",
    "            elif command == \"l\":\n",
    "                spacecraft.direction = rotate_left(spacecraft.direction)\n",
    "            elif command == \"r\":\n",
    "                spacecraft.direction = rotate_right(spacecraft.direction)\n",
    "            elif command == \"u\":\n",
    "                spacecraft.direction = rotate_up(spacecraft.direction)\n",
    "            elif command == \"d\":\n",
    "                spacecraft.direction = rotate_down(spacecraft.direction)\n",
    "            else:\n",
    "                print(f\"Invalid command: {command}. Skipping...\")\n",
    "        except Exception as e:\n",
    "            print(f\"An error occurred: {e}. Skipping command: {command}\")\n"
   ]
  }
 ],
 "metadata": {
  "kernelspec": {
   "display_name": "Python 3 (ipykernel)",
   "language": "python",
   "name": "python3"
  },
  "language_info": {
   "codemirror_mode": {
    "name": "ipython",
    "version": 3
   },
   "file_extension": ".py",
   "mimetype": "text/x-python",
   "name": "python",
   "nbconvert_exporter": "python",
   "pygments_lexer": "ipython3",
   "version": "3.9.13"
  }
 },
 "nbformat": 4,
 "nbformat_minor": 5
}
