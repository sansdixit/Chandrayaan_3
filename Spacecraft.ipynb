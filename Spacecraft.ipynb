{
 "cells": [
  {
   "cell_type": "code",
   "execution_count": 1,
   "id": "25ed7e5a",
   "metadata": {},
   "outputs": [],
   "source": [
    "class Spacecraft:\n",
    "    def __init__(self, initial_position, initial_direction):\n",
    "        self.position = initial_position\n",
    "        self.direction = initial_direction\n",
    "\n",
    "    def __str__(self):\n",
    "        return f\"Position: {self.position}, Direction: {self.direction}\"\n"
   ]
  }
 ],
 "metadata": {
  "kernelspec": {
   "display_name": "Python 3 (ipykernel)",
   "language": "python",
   "name": "python3"
  },
  "language_info": {
   "codemirror_mode": {
    "name": "ipython",
    "version": 3
   },
   "file_extension": ".py",
   "mimetype": "text/x-python",
   "name": "python",
   "nbconvert_exporter": "python",
   "pygments_lexer": "ipython3",
   "version": "3.9.13"
  }
 },
 "nbformat": 4,
 "nbformat_minor": 5
}
