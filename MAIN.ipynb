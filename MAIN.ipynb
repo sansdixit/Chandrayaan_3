{
 "cells": [
  {
   "cell_type": "code",
   "execution_count": null,
   "id": "0cdb7f16",
   "metadata": {},
   "outputs": [],
   "source": [
    "from spacecraft import Spacecraft\n",
    "from execution import execute_commands\n",
    "\n",
    "# Define initial position and direction\n",
    "initial_position = (0, 0, 0)\n",
    "initial_direction = \"N\"\n",
    "chandrayaan = Spacecraft(initial_position, initial_direction)\n",
    "\n",
    "# Example commands\n",
    "commands = [\"f\", \"r\", \"u\", \"b\", \"l\", \"x\", \"invalid\"]\n",
    "execute_commands(chandrayaan, commands)\n",
    "\n",
    "# Print final position and direction\n",
    "print(chandrayaan)\n"
   ]
  }
 ],
 "metadata": {
  "kernelspec": {
   "display_name": "Python 3 (ipykernel)",
   "language": "python",
   "name": "python3"
  },
  "language_info": {
   "codemirror_mode": {
    "name": "ipython",
    "version": 3
   },
   "file_extension": ".py",
   "mimetype": "text/x-python",
   "name": "python",
   "nbconvert_exporter": "python",
   "pygments_lexer": "ipython3",
   "version": "3.9.13"
  }
 },
 "nbformat": 4,
 "nbformat_minor": 5
}
